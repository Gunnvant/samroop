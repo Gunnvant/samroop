{
 "cells": [
  {
   "cell_type": "code",
   "execution_count": 1,
   "metadata": {},
   "outputs": [],
   "source": [
    "import os \n",
    "import json\n",
    "from gensim import similarities"
   ]
  },
  {
   "cell_type": "code",
   "execution_count": 2,
   "metadata": {},
   "outputs": [],
   "source": [
    "def load_index(path_index):\n",
    "    index = similarities.MatrixSimilarity.load(path_index)\n",
    "    return index"
   ]
  },
  {
   "cell_type": "code",
   "execution_count": 3,
   "metadata": {},
   "outputs": [],
   "source": [
    "from utils import home,meta_folder,index_name,meta_parser_name"
   ]
  },
  {
   "cell_type": "code",
   "execution_count": 4,
   "metadata": {},
   "outputs": [],
   "source": [
    "path_index=os.path.join(home,meta_folder,index_name)"
   ]
  },
  {
   "cell_type": "code",
   "execution_count": 5,
   "metadata": {},
   "outputs": [],
   "source": [
    "index=load_index(path_index)"
   ]
  },
  {
   "cell_type": "code",
   "execution_count": 6,
   "metadata": {},
   "outputs": [
    {
     "data": {
      "text/plain": [
       "550"
      ]
     },
     "execution_count": 6,
     "metadata": {},
     "output_type": "execute_result"
    }
   ],
   "source": [
    "len(index) ### Number of documents indexed"
   ]
  },
  {
   "cell_type": "code",
   "execution_count": 7,
   "metadata": {},
   "outputs": [],
   "source": [
    "path_meta=os.path.join(home,meta_folder,meta_parser_name)\n",
    "with open(path_meta,'r',encoding='utf-8') as f:\n",
    "    meta=json.loads(f.read())"
   ]
  },
  {
   "cell_type": "code",
   "execution_count": 8,
   "metadata": {},
   "outputs": [],
   "source": [
    "files_indexed=meta['paths_successfully_parsed']"
   ]
  },
  {
   "cell_type": "code",
   "execution_count": 9,
   "metadata": {},
   "outputs": [],
   "source": [
    "index=list(index)"
   ]
  },
  {
   "cell_type": "code",
   "execution_count": 10,
   "metadata": {},
   "outputs": [
    {
     "data": {
      "text/plain": [
       "array([ 49,  48,  51,  50, 329], dtype=int64)"
      ]
     },
     "execution_count": 10,
     "metadata": {},
     "output_type": "execute_result"
    }
   ],
   "source": [
    "index[0].argsort()[::-1][1:6]"
   ]
  },
  {
   "cell_type": "code",
   "execution_count": 11,
   "metadata": {},
   "outputs": [
    {
     "data": {
      "text/plain": [
       "'C:\\\\Users\\\\gunnv\\\\iCloudDrive\\\\Books\\\\[Howard_Anton,_Chris_Rorres]_Elementary_Linear_Alg(z-lib.org).pdf'"
      ]
     },
     "execution_count": 11,
     "metadata": {},
     "output_type": "execute_result"
    }
   ],
   "source": [
    "files_indexed[0]"
   ]
  },
  {
   "cell_type": "code",
   "execution_count": 12,
   "metadata": {},
   "outputs": [
    {
     "data": {
      "text/plain": [
       "'C:\\\\Users\\\\gunnv\\\\iCloudDrive\\\\Books\\\\Basic Statistics and Mathematics\\\\Linear Algebra\\\\Gilbert Strang-Introduction to Linear Algebra (2009).pdf'"
      ]
     },
     "execution_count": 12,
     "metadata": {},
     "output_type": "execute_result"
    }
   ],
   "source": [
    "files_indexed[49]"
   ]
  },
  {
   "cell_type": "code",
   "execution_count": 13,
   "metadata": {},
   "outputs": [
    {
     "data": {
      "text/plain": [
       "\"C:\\\\Users\\\\gunnv\\\\iCloudDrive\\\\Books\\\\Basic Statistics and Mathematics\\\\Linear Algebra\\\\David A. Harville-Matrix Algebra From a Statistician's Perspective-Springer (2008).pdf\""
      ]
     },
     "execution_count": 13,
     "metadata": {},
     "output_type": "execute_result"
    }
   ],
   "source": [
    "files_indexed[48]"
   ]
  },
  {
   "cell_type": "code",
   "execution_count": 20,
   "metadata": {},
   "outputs": [],
   "source": [
    "import pandas as pd\n",
    "def get_summary(files_indexed,index, k=5):\n",
    "    target_file=[]\n",
    "    target_path=[]\n",
    "    name_similar=[]\n",
    "    num_paths_match=[]\n",
    "    paths_sim_files=[]\n",
    "    for idx,path in enumerate(files_indexed):\n",
    "        target_file.append(path.split(\"\\\\\")[-1])\n",
    "        target_path.append(path)\n",
    "        file_names=[]\n",
    "        matches=0\n",
    "        sim_paths=[]\n",
    "        sim_inds=index[idx].argsort()[::-1][1:k+1]\n",
    "        for sim_idx in sim_inds:\n",
    "            file_names.append(files_indexed[sim_idx].split(\"\\\\\")[-1])\n",
    "            sim_paths.append(files_indexed[sim_idx])\n",
    "            path_c=files_indexed[sim_idx].split(\"\\\\\")\n",
    "            path_c.pop()\n",
    "            path_g=path.split(\"\\\\\")\n",
    "            path_g.pop()\n",
    "            if \"\\\\\".join(path_g)==\"\\\\\".join(path_c):\n",
    "                matches+=1\n",
    "        name_similar.append(\",\".join(file_names))\n",
    "        num_paths_match.append(matches)\n",
    "        paths_sim_files.append(\",\".join(sim_paths))\n",
    "    results=pd.DataFrame({'target_file':target_file,\n",
    "                          'path':target_path,\n",
    "                          'sim_files':name_similar,\n",
    "                          'paths_match':num_paths_match,\n",
    "                         'paths_sim':paths_sim_files,\n",
    "                          'k':k})\n",
    "    return results"
   ]
  },
  {
   "cell_type": "code",
   "execution_count": 21,
   "metadata": {},
   "outputs": [
    {
     "data": {
      "text/html": [
       "<div>\n",
       "<style scoped>\n",
       "    .dataframe tbody tr th:only-of-type {\n",
       "        vertical-align: middle;\n",
       "    }\n",
       "\n",
       "    .dataframe tbody tr th {\n",
       "        vertical-align: top;\n",
       "    }\n",
       "\n",
       "    .dataframe thead th {\n",
       "        text-align: right;\n",
       "    }\n",
       "</style>\n",
       "<table border=\"1\" class=\"dataframe\">\n",
       "  <thead>\n",
       "    <tr style=\"text-align: right;\">\n",
       "      <th></th>\n",
       "      <th>target_file</th>\n",
       "      <th>path</th>\n",
       "      <th>sim_files</th>\n",
       "      <th>paths_match</th>\n",
       "      <th>paths_sim</th>\n",
       "      <th>k</th>\n",
       "    </tr>\n",
       "  </thead>\n",
       "  <tbody>\n",
       "    <tr>\n",
       "      <th>0</th>\n",
       "      <td>[Howard_Anton,_Chris_Rorres]_Elementary_Linear...</td>\n",
       "      <td>C:\\Users\\gunnv\\iCloudDrive\\Books\\[Howard_Anton...</td>\n",
       "      <td>Gilbert Strang-Introduction to Linear Algebra ...</td>\n",
       "      <td>0</td>\n",
       "      <td>C:\\Users\\gunnv\\iCloudDrive\\Books\\Basic Statist...</td>\n",
       "      <td>5</td>\n",
       "    </tr>\n",
       "    <tr>\n",
       "      <th>1</th>\n",
       "      <td>[Richard_Blum,_Christine_Bresnahan]_Linux_Comm...</td>\n",
       "      <td>C:\\Users\\gunnv\\iCloudDrive\\Books\\[Richard_Blum...</td>\n",
       "      <td>[Rickford_Grant]_Ubuntu_for_non-geeks__a_pain-...</td>\n",
       "      <td>0</td>\n",
       "      <td>C:\\Users\\gunnv\\iCloudDrive\\Books\\Programming a...</td>\n",
       "      <td>5</td>\n",
       "    </tr>\n",
       "    <tr>\n",
       "      <th>2</th>\n",
       "      <td>(Statistics for social and behavioral sciences...</td>\n",
       "      <td>C:\\Users\\gunnv\\iCloudDrive\\Books\\Basic Statist...</td>\n",
       "      <td>[Scott_M._Lynch]_Introduction_to_Applied_Bayes...</td>\n",
       "      <td>4</td>\n",
       "      <td>C:\\Users\\gunnv\\iCloudDrive\\Books\\Basic Statist...</td>\n",
       "      <td>5</td>\n",
       "    </tr>\n",
       "    <tr>\n",
       "      <th>3</th>\n",
       "      <td>John Kruschke-Doing Bayesian Data Analysis, Se...</td>\n",
       "      <td>C:\\Users\\gunnv\\iCloudDrive\\Books\\Basic Statist...</td>\n",
       "      <td>[John_K._Kruschke]_Doing_Bayesian_Data_Analysi...</td>\n",
       "      <td>4</td>\n",
       "      <td>C:\\Users\\gunnv\\iCloudDrive\\Books\\Basic Statist...</td>\n",
       "      <td>5</td>\n",
       "    </tr>\n",
       "    <tr>\n",
       "      <th>4</th>\n",
       "      <td>William M. Bolstad-Introduction to bayesian st...</td>\n",
       "      <td>C:\\Users\\gunnv\\iCloudDrive\\Books\\Basic Statist...</td>\n",
       "      <td>[Andrew_Gelman,_John_B._Carlin,_Hal_S._Stern,_...</td>\n",
       "      <td>4</td>\n",
       "      <td>C:\\Users\\gunnv\\iCloudDrive\\Books\\Basic Statist...</td>\n",
       "      <td>5</td>\n",
       "    </tr>\n",
       "    <tr>\n",
       "      <th>...</th>\n",
       "      <td>...</td>\n",
       "      <td>...</td>\n",
       "      <td>...</td>\n",
       "      <td>...</td>\n",
       "      <td>...</td>\n",
       "      <td>...</td>\n",
       "    </tr>\n",
       "    <tr>\n",
       "      <th>545</th>\n",
       "      <td>[April_Hodge_Silver]_WordPress_3_Complete(book...</td>\n",
       "      <td>C:\\Users\\gunnv\\iCloudDrive\\Books\\Programming a...</td>\n",
       "      <td>[Stephanie_Leary]_Beginning_WordPress_3(bookos...</td>\n",
       "      <td>4</td>\n",
       "      <td>C:\\Users\\gunnv\\iCloudDrive\\Books\\Programming a...</td>\n",
       "      <td>5</td>\n",
       "    </tr>\n",
       "    <tr>\n",
       "      <th>546</th>\n",
       "      <td>[Jesse_Dhammu]_Installation_of_Wordpress_on_Li...</td>\n",
       "      <td>C:\\Users\\gunnv\\iCloudDrive\\Books\\Programming a...</td>\n",
       "      <td>[Lisa_Sabin-Wilson]_WordPress_For_Dummies,_2nd...</td>\n",
       "      <td>4</td>\n",
       "      <td>C:\\Users\\gunnv\\iCloudDrive\\Books\\Programming a...</td>\n",
       "      <td>5</td>\n",
       "    </tr>\n",
       "    <tr>\n",
       "      <th>547</th>\n",
       "      <td>[Lisa_Sabin-Wilson]_WordPress_For_Dummies,_2nd...</td>\n",
       "      <td>C:\\Users\\gunnv\\iCloudDrive\\Books\\Programming a...</td>\n",
       "      <td>[Matt_Beck,_Jessica_Neuman_Beck]_WordPress_Vis...</td>\n",
       "      <td>4</td>\n",
       "      <td>C:\\Users\\gunnv\\iCloudDrive\\Books\\Programming a...</td>\n",
       "      <td>5</td>\n",
       "    </tr>\n",
       "    <tr>\n",
       "      <th>548</th>\n",
       "      <td>[Matt_Beck,_Jessica_Neuman_Beck]_WordPress_Vis...</td>\n",
       "      <td>C:\\Users\\gunnv\\iCloudDrive\\Books\\Programming a...</td>\n",
       "      <td>[Lisa_Sabin-Wilson]_WordPress_For_Dummies,_2nd...</td>\n",
       "      <td>4</td>\n",
       "      <td>C:\\Users\\gunnv\\iCloudDrive\\Books\\Programming a...</td>\n",
       "      <td>5</td>\n",
       "    </tr>\n",
       "    <tr>\n",
       "      <th>549</th>\n",
       "      <td>[Stephanie_Leary]_Beginning_WordPress_3(bookos...</td>\n",
       "      <td>C:\\Users\\gunnv\\iCloudDrive\\Books\\Programming a...</td>\n",
       "      <td>[April_Hodge_Silver]_WordPress_3_Complete(book...</td>\n",
       "      <td>4</td>\n",
       "      <td>C:\\Users\\gunnv\\iCloudDrive\\Books\\Programming a...</td>\n",
       "      <td>5</td>\n",
       "    </tr>\n",
       "  </tbody>\n",
       "</table>\n",
       "<p>550 rows × 6 columns</p>\n",
       "</div>"
      ],
      "text/plain": [
       "                                           target_file  \\\n",
       "0    [Howard_Anton,_Chris_Rorres]_Elementary_Linear...   \n",
       "1    [Richard_Blum,_Christine_Bresnahan]_Linux_Comm...   \n",
       "2    (Statistics for social and behavioral sciences...   \n",
       "3    John Kruschke-Doing Bayesian Data Analysis, Se...   \n",
       "4    William M. Bolstad-Introduction to bayesian st...   \n",
       "..                                                 ...   \n",
       "545  [April_Hodge_Silver]_WordPress_3_Complete(book...   \n",
       "546  [Jesse_Dhammu]_Installation_of_Wordpress_on_Li...   \n",
       "547  [Lisa_Sabin-Wilson]_WordPress_For_Dummies,_2nd...   \n",
       "548  [Matt_Beck,_Jessica_Neuman_Beck]_WordPress_Vis...   \n",
       "549  [Stephanie_Leary]_Beginning_WordPress_3(bookos...   \n",
       "\n",
       "                                                  path  \\\n",
       "0    C:\\Users\\gunnv\\iCloudDrive\\Books\\[Howard_Anton...   \n",
       "1    C:\\Users\\gunnv\\iCloudDrive\\Books\\[Richard_Blum...   \n",
       "2    C:\\Users\\gunnv\\iCloudDrive\\Books\\Basic Statist...   \n",
       "3    C:\\Users\\gunnv\\iCloudDrive\\Books\\Basic Statist...   \n",
       "4    C:\\Users\\gunnv\\iCloudDrive\\Books\\Basic Statist...   \n",
       "..                                                 ...   \n",
       "545  C:\\Users\\gunnv\\iCloudDrive\\Books\\Programming a...   \n",
       "546  C:\\Users\\gunnv\\iCloudDrive\\Books\\Programming a...   \n",
       "547  C:\\Users\\gunnv\\iCloudDrive\\Books\\Programming a...   \n",
       "548  C:\\Users\\gunnv\\iCloudDrive\\Books\\Programming a...   \n",
       "549  C:\\Users\\gunnv\\iCloudDrive\\Books\\Programming a...   \n",
       "\n",
       "                                             sim_files  paths_match  \\\n",
       "0    Gilbert Strang-Introduction to Linear Algebra ...            0   \n",
       "1    [Rickford_Grant]_Ubuntu_for_non-geeks__a_pain-...            0   \n",
       "2    [Scott_M._Lynch]_Introduction_to_Applied_Bayes...            4   \n",
       "3    [John_K._Kruschke]_Doing_Bayesian_Data_Analysi...            4   \n",
       "4    [Andrew_Gelman,_John_B._Carlin,_Hal_S._Stern,_...            4   \n",
       "..                                                 ...          ...   \n",
       "545  [Stephanie_Leary]_Beginning_WordPress_3(bookos...            4   \n",
       "546  [Lisa_Sabin-Wilson]_WordPress_For_Dummies,_2nd...            4   \n",
       "547  [Matt_Beck,_Jessica_Neuman_Beck]_WordPress_Vis...            4   \n",
       "548  [Lisa_Sabin-Wilson]_WordPress_For_Dummies,_2nd...            4   \n",
       "549  [April_Hodge_Silver]_WordPress_3_Complete(book...            4   \n",
       "\n",
       "                                             paths_sim  k  \n",
       "0    C:\\Users\\gunnv\\iCloudDrive\\Books\\Basic Statist...  5  \n",
       "1    C:\\Users\\gunnv\\iCloudDrive\\Books\\Programming a...  5  \n",
       "2    C:\\Users\\gunnv\\iCloudDrive\\Books\\Basic Statist...  5  \n",
       "3    C:\\Users\\gunnv\\iCloudDrive\\Books\\Basic Statist...  5  \n",
       "4    C:\\Users\\gunnv\\iCloudDrive\\Books\\Basic Statist...  5  \n",
       "..                                                 ... ..  \n",
       "545  C:\\Users\\gunnv\\iCloudDrive\\Books\\Programming a...  5  \n",
       "546  C:\\Users\\gunnv\\iCloudDrive\\Books\\Programming a...  5  \n",
       "547  C:\\Users\\gunnv\\iCloudDrive\\Books\\Programming a...  5  \n",
       "548  C:\\Users\\gunnv\\iCloudDrive\\Books\\Programming a...  5  \n",
       "549  C:\\Users\\gunnv\\iCloudDrive\\Books\\Programming a...  5  \n",
       "\n",
       "[550 rows x 6 columns]"
      ]
     },
     "execution_count": 21,
     "metadata": {},
     "output_type": "execute_result"
    }
   ],
   "source": [
    "get_summary(files_indexed,index)"
   ]
  },
  {
   "cell_type": "code",
   "execution_count": 22,
   "metadata": {},
   "outputs": [],
   "source": [
    "summary=get_summary(files_indexed,index,k=10)"
   ]
  },
  {
   "cell_type": "code",
   "execution_count": 23,
   "metadata": {},
   "outputs": [
    {
     "data": {
      "text/html": [
       "<div>\n",
       "<style scoped>\n",
       "    .dataframe tbody tr th:only-of-type {\n",
       "        vertical-align: middle;\n",
       "    }\n",
       "\n",
       "    .dataframe tbody tr th {\n",
       "        vertical-align: top;\n",
       "    }\n",
       "\n",
       "    .dataframe thead th {\n",
       "        text-align: right;\n",
       "    }\n",
       "</style>\n",
       "<table border=\"1\" class=\"dataframe\">\n",
       "  <thead>\n",
       "    <tr style=\"text-align: right;\">\n",
       "      <th></th>\n",
       "      <th>paths_match</th>\n",
       "      <th>k</th>\n",
       "    </tr>\n",
       "  </thead>\n",
       "  <tbody>\n",
       "    <tr>\n",
       "      <th>count</th>\n",
       "      <td>550.000000</td>\n",
       "      <td>550.0</td>\n",
       "    </tr>\n",
       "    <tr>\n",
       "      <th>mean</th>\n",
       "      <td>2.854545</td>\n",
       "      <td>10.0</td>\n",
       "    </tr>\n",
       "    <tr>\n",
       "      <th>std</th>\n",
       "      <td>2.288151</td>\n",
       "      <td>0.0</td>\n",
       "    </tr>\n",
       "    <tr>\n",
       "      <th>min</th>\n",
       "      <td>0.000000</td>\n",
       "      <td>10.0</td>\n",
       "    </tr>\n",
       "    <tr>\n",
       "      <th>25%</th>\n",
       "      <td>1.000000</td>\n",
       "      <td>10.0</td>\n",
       "    </tr>\n",
       "    <tr>\n",
       "      <th>50%</th>\n",
       "      <td>2.500000</td>\n",
       "      <td>10.0</td>\n",
       "    </tr>\n",
       "    <tr>\n",
       "      <th>75%</th>\n",
       "      <td>4.000000</td>\n",
       "      <td>10.0</td>\n",
       "    </tr>\n",
       "    <tr>\n",
       "      <th>max</th>\n",
       "      <td>10.000000</td>\n",
       "      <td>10.0</td>\n",
       "    </tr>\n",
       "  </tbody>\n",
       "</table>\n",
       "</div>"
      ],
      "text/plain": [
       "       paths_match      k\n",
       "count   550.000000  550.0\n",
       "mean      2.854545   10.0\n",
       "std       2.288151    0.0\n",
       "min       0.000000   10.0\n",
       "25%       1.000000   10.0\n",
       "50%       2.500000   10.0\n",
       "75%       4.000000   10.0\n",
       "max      10.000000   10.0"
      ]
     },
     "execution_count": 23,
     "metadata": {},
     "output_type": "execute_result"
    }
   ],
   "source": [
    "summary.describe()"
   ]
  },
  {
   "cell_type": "code",
   "execution_count": 24,
   "metadata": {},
   "outputs": [],
   "source": [
    "summary.to_csv(\"path_summary.csv\",index=False)"
   ]
  },
  {
   "cell_type": "code",
   "execution_count": null,
   "metadata": {},
   "outputs": [],
   "source": []
  }
 ],
 "metadata": {
  "kernelspec": {
   "display_name": "Python 3.7.4 64-bit ('base': conda)",
   "language": "python",
   "name": "python37464bitbasecondae1ffa1412f074f08abd627806a6fc789"
  },
  "language_info": {
   "codemirror_mode": {
    "name": "ipython",
    "version": 3
   },
   "file_extension": ".py",
   "mimetype": "text/x-python",
   "name": "python",
   "nbconvert_exporter": "python",
   "pygments_lexer": "ipython3",
   "version": "3.7.4"
  }
 },
 "nbformat": 4,
 "nbformat_minor": 2
}
